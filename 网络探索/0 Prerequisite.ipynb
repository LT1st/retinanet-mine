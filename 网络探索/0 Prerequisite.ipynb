{
 "cells": [
  {
   "cell_type": "markdown",
   "metadata": {},
   "source": [
    "\n",
    "1. 新建`coco`文件夹。\n",
    "2. 下载如下文件：\n",
    "    - http://images.cocodataset.org/annotations/annotations_trainval2017.zip\n",
    "    - http://images.cocodataset.org/zips/train2017.zip\n",
    "    - http://images.cocodataset.org/zips/val2017.zip\n",
    "    - http://images.cocodataset.org/zips/test2017.zip\n",
    "    - http://images.cocodataset.org/annotations/image_info_test2017.zip\n",
    "3. 将`annotations_trainval2017.zip`和`image_info_test2017.zip`直接在coco文件夹中解压即可，会出现一个叫`annotations`的文件夹\n",
    "4. 在`coco`文件夹中新建一个名为`images`的文件夹，将`train2017.zip`、`val2017.zip`和`test2017.zip`都解压到里面去。"
   ]
  },
  {
   "cell_type": "code",
   "execution_count": null,
   "metadata": {},
   "outputs": [],
   "source": []
  }
 ],
 "metadata": {
  "kernelspec": {
   "display_name": "Python 3",
   "language": "python",
   "name": "python3"
  },
  "language_info": {
   "codemirror_mode": {
    "name": "ipython",
    "version": 3
   },
   "file_extension": ".py",
   "mimetype": "text/x-python",
   "name": "python",
   "nbconvert_exporter": "python",
   "pygments_lexer": "ipython3",
   "version": "3.7.1"
  }
 },
 "nbformat": 4,
 "nbformat_minor": 4
}
